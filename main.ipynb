{
 "cells": [
  {
   "cell_type": "code",
   "execution_count": 1,
   "metadata": {},
   "outputs": [],
   "source": [
    "import pandas as pd\n",
    "import numpy as np\n",
    "\n",
    "import youtokentome as yttm\n",
    "\n",
    "from functools import partial, reduce\n",
    "import operator\n",
    "\n",
    "from src.utils import *\n",
    "from src.vars import *\n",
    "from src.model import Classifier\n",
    "from src.dataset import BinaryDataset, BinaryEvenDataset\n",
    "from torch.optim.lr_scheduler import ReduceLROnPlateau\n",
    "import torch.optim as optim\n",
    "from torch import nn\n",
    "from torch.utils import data\n",
    "import torch\n",
    "from torch import Tensor\n",
    "\n",
    "\n",
    "from tqdm.notebook import tqdm\n",
    "\n",
    "\n",
    "from sklearn.model_selection import train_test_split"
   ]
  },
  {
   "cell_type": "markdown",
   "metadata": {},
   "source": [
    "### params"
   ]
  },
  {
   "cell_type": "code",
   "execution_count": 3,
   "metadata": {},
   "outputs": [],
   "source": [
    "num_of_epochs = 10\n",
    "batch_size = 32\n",
    "epsilon = 1e-4\n",
    "learning_rate = 0.001\n",
    "word_embedding_dim = 64\n",
    "hidden_dim = 128\n",
    "topk = 3"
   ]
  },
  {
   "cell_type": "markdown",
   "metadata": {},
   "source": [
    "### data"
   ]
  },
  {
   "cell_type": "code",
   "execution_count": 2,
   "metadata": {},
   "outputs": [],
   "source": [
    "train_input = pd.read_csv(train_file, sep='\\t')\n",
    "\n",
    "tokenizer = yttm.BPE(model=tokenizer_path)\n",
    "sep_token = tokenizer.id_to_subword(sep_token_id)\n",
    "\n",
    "x = clue(train_input, sep_token, to_lower=True)\n",
    "x = x.apply(lambda r: tokenizer.encode(r))\n",
    "y = train_input[label_column]\n",
    "\n",
    "X_train, X_test, y_train, y_test = train_test_split(x, y, test_size=0.20, random_state=42)\n",
    "\n",
    "del train_input, x, y"
   ]
  },
  {
   "cell_type": "code",
   "execution_count": 4,
   "metadata": {},
   "outputs": [],
   "source": [
    "train_data = BinaryEvenDataset(X_train,y_train)\n",
    "val_data = BinaryEvenDataset(X_test, y_test)\n",
    "\n",
    "assert train_data.small_label == val_data.small_label, \"something gone wrong in train/val dataset label asignment\"\n",
    "\n",
    "data_loader = {'train': create_dataloader(train_data, batch_size, pad_token_id),\n",
    "               'val': create_dataloader(val_data, batch_size, pad_token_id)}"
   ]
  },
  {
   "cell_type": "markdown",
   "metadata": {},
   "source": [
    "### model"
   ]
  },
  {
   "cell_type": "code",
   "execution_count": 26,
   "metadata": {},
   "outputs": [
    {
     "name": "stdout",
     "output_type": "stream",
     "text": [
      "Word vocab size: 128\n"
     ]
    }
   ],
   "source": [
    "# Choose device\n",
    "device = torch.device('cuda' if torch.cuda.is_available() else 'cpu')\n",
    "\n",
    "# Init stats\n",
    "stats = {'train': {'acc': [], 'loss': []},\n",
    "         'val': {'acc': [], 'loss': []}}\n",
    "best_acc = 0\n",
    "\n",
    "word_vocab_size = tokenizer.vocab_size()\n",
    "print('Word vocab size:', word_vocab_size)\n",
    "\n",
    "\n",
    "# Init model.\n",
    "model = Classifier(word_vocab_size=word_vocab_size,\n",
    "                   word_embedding_dim=word_embedding_dim,\n",
    "                   hidden_dim=hidden_dim,\n",
    "                   target_size=2,\n",
    "                   padding_idx=pad_token_id,\n",
    "                   topk=topk)\n",
    "model.to(device)\n",
    "\n",
    "loss_function = nn.CrossEntropyLoss() \n",
    "optimizer = optim.Adam(model.parameters(), lr=learning_rate)\n",
    "lr_scheduler = ReduceLROnPlateau(optimizer, mode='max', factor=0.5,\n",
    "                                 patience=0, verbose=True, threshold_mode='abs',\n",
    "                                 threshold=1e-2)"
   ]
  },
  {
   "cell_type": "markdown",
   "metadata": {},
   "source": [
    "### training pipeline"
   ]
  },
  {
   "cell_type": "code",
   "execution_count": 28,
   "metadata": {},
   "outputs": [],
   "source": [
    "def run_model(model, device, optimizer, loss_function,\n",
    "              data_loader, is_train_phase, desc=None, verbose=True):\n",
    "    \"\"\"Run the given data through the model.\n",
    "    :param model: model to run\n",
    "    :param optimizer: optimizer for the model\n",
    "    :param loss_function: function to calculate the loss\n",
    "    :param data_loader: loader for the data\n",
    "    :param is_train_phase: if true, model runs in train mode and propagate gradient, otherwise in eval mode\n",
    "    :param desc: description for the tqdm visualization\n",
    "    :param verbose: verbose state\n",
    "    :return: tuple of accuracies and losses\n",
    "    \"\"\"\n",
    "    # Setup gradient\n",
    "    if is_train_phase:\n",
    "        model.train()\n",
    "    else:\n",
    "        model.eval()\n",
    "    losses = []\n",
    "    accuracies = []\n",
    "    iterable = tqdm(data_loader, desc=desc) if verbose else data_loader\n",
    "    for sentences, targets in iterable:\n",
    "        sentences = sentences.to(device)\n",
    "        targets = targets.to(device).flatten()\n",
    "        optimizer.zero_grad()\n",
    "\n",
    "        with torch.set_grad_enabled(is_train_phase):\n",
    "            y_hat = model(sentences)\n",
    "            loss = loss_function(y_hat, targets)\n",
    "            acc = calc_accuracy(y_hat, targets).cpu().detach().numpy()\n",
    "\n",
    "            # backprop only in train phase\n",
    "            if is_train_phase:\n",
    "                loss.backward()\n",
    "                optimizer.step()\n",
    "\n",
    "            # store loss\n",
    "            losses.append(loss.item())\n",
    "            accuracies.append(acc)\n",
    "\n",
    "            # Update metrics in description\n",
    "            if verbose:\n",
    "                iterable.set_description(desc +\n",
    "                                         f' - acc: {np.mean(accuracies):.4f}; ' +\n",
    "                                         f'loss: {np.mean(losses):.4f}')\n",
    "\n",
    "    return accuracies, losses"
   ]
  },
  {
   "cell_type": "code",
   "execution_count": 29,
   "metadata": {
    "scrolled": true
   },
   "outputs": [
    {
     "name": "stdout",
     "output_type": "stream",
     "text": [
      "\r",
      "\r",
      "\r",
      "\r",
      "------------ Epoch 0 ------------\n"
     ]
    },
    {
     "data": {
      "application/vnd.jupyter.widget-view+json": {
       "model_id": "028514e860664d51806431056edac88d",
       "version_major": 2,
       "version_minor": 0
      },
      "text/plain": [
       "HBox(children=(FloatProgress(value=0.0, description='Train: Epoch #0', max=9155.0, style=ProgressStyle(descrip…"
      ]
     },
     "metadata": {},
     "output_type": "display_data"
    },
    {
     "name": "stdout",
     "output_type": "stream",
     "text": [
      "\n"
     ]
    },
    {
     "data": {
      "application/vnd.jupyter.widget-view+json": {
       "model_id": "eefaf832c09e48f18b6a2c24133b3065",
       "version_major": 2,
       "version_minor": 0
      },
      "text/plain": [
       "HBox(children=(FloatProgress(value=0.0, description='Val: Epoch #0', max=2276.0, style=ProgressStyle(descripti…"
      ]
     },
     "metadata": {},
     "output_type": "display_data"
    },
    {
     "name": "stdout",
     "output_type": "stream",
     "text": [
      "\n",
      "\r",
      "\r",
      "\r",
      "\r",
      "Biggest val accuracy\n",
      "\r",
      "\r",
      "\r",
      "\r",
      "Saving model...\n",
      "\r",
      "\r",
      "\r",
      "\r",
      "Saved successfully\n",
      "\r",
      "\r",
      "\r",
      "\r",
      "------------ Epoch 1 ------------\n"
     ]
    },
    {
     "data": {
      "application/vnd.jupyter.widget-view+json": {
       "model_id": "3ceb9dfc2a894064b3065832cedd7557",
       "version_major": 2,
       "version_minor": 0
      },
      "text/plain": [
       "HBox(children=(FloatProgress(value=0.0, description='Train: Epoch #1', max=9155.0, style=ProgressStyle(descrip…"
      ]
     },
     "metadata": {},
     "output_type": "display_data"
    },
    {
     "name": "stdout",
     "output_type": "stream",
     "text": [
      "\n"
     ]
    },
    {
     "data": {
      "application/vnd.jupyter.widget-view+json": {
       "model_id": "ee43b18a777e43b4905dfd09bc5258b9",
       "version_major": 2,
       "version_minor": 0
      },
      "text/plain": [
       "HBox(children=(FloatProgress(value=0.0, description='Val: Epoch #1', max=2276.0, style=ProgressStyle(descripti…"
      ]
     },
     "metadata": {},
     "output_type": "display_data"
    },
    {
     "name": "stdout",
     "output_type": "stream",
     "text": [
      "\n",
      "\r",
      "\r",
      "\r",
      "\r",
      "Biggest val accuracy\n",
      "\r",
      "\r",
      "\r",
      "\r",
      "Saving model...\n",
      "\r",
      "\r",
      "\r",
      "\r",
      "Saved successfully\n",
      "\r",
      "\r",
      "\r",
      "\r",
      "------------ Epoch 2 ------------\n"
     ]
    },
    {
     "data": {
      "application/vnd.jupyter.widget-view+json": {
       "model_id": "9952ed937e9445e8bcfc9c5d182dfd4a",
       "version_major": 2,
       "version_minor": 0
      },
      "text/plain": [
       "HBox(children=(FloatProgress(value=0.0, description='Train: Epoch #2', max=9155.0, style=ProgressStyle(descrip…"
      ]
     },
     "metadata": {},
     "output_type": "display_data"
    },
    {
     "name": "stdout",
     "output_type": "stream",
     "text": [
      "\n"
     ]
    },
    {
     "data": {
      "application/vnd.jupyter.widget-view+json": {
       "model_id": "ce9f50ca28bc4248837dc1a4854bfe93",
       "version_major": 2,
       "version_minor": 0
      },
      "text/plain": [
       "HBox(children=(FloatProgress(value=0.0, description='Val: Epoch #2', max=2276.0, style=ProgressStyle(descripti…"
      ]
     },
     "metadata": {},
     "output_type": "display_data"
    },
    {
     "name": "stdout",
     "output_type": "stream",
     "text": [
      "\n",
      "Epoch     2: reducing learning rate of group 0 to 5.0000e-04.\n",
      "\r",
      "\r",
      "\r",
      "\r",
      "Biggest val accuracy\n",
      "\r",
      "\r",
      "\r",
      "\r",
      "Saving model...\n",
      "\r",
      "\r",
      "\r",
      "\r",
      "Saved successfully\n",
      "\r",
      "\r",
      "\r",
      "\r",
      "------------ Epoch 3 ------------\n"
     ]
    },
    {
     "data": {
      "application/vnd.jupyter.widget-view+json": {
       "model_id": "762f97f797cc4427a26b5d409f51ab07",
       "version_major": 2,
       "version_minor": 0
      },
      "text/plain": [
       "HBox(children=(FloatProgress(value=0.0, description='Train: Epoch #3', max=9155.0, style=ProgressStyle(descrip…"
      ]
     },
     "metadata": {},
     "output_type": "display_data"
    },
    {
     "name": "stdout",
     "output_type": "stream",
     "text": [
      "\n"
     ]
    },
    {
     "data": {
      "application/vnd.jupyter.widget-view+json": {
       "model_id": "37d7598f949d4fe48725eed22add9b38",
       "version_major": 2,
       "version_minor": 0
      },
      "text/plain": [
       "HBox(children=(FloatProgress(value=0.0, description='Val: Epoch #3', max=2276.0, style=ProgressStyle(descripti…"
      ]
     },
     "metadata": {},
     "output_type": "display_data"
    },
    {
     "name": "stdout",
     "output_type": "stream",
     "text": [
      "\n",
      "\r",
      "\r",
      "\r",
      "\r",
      "Biggest val accuracy\n",
      "\r",
      "\r",
      "\r",
      "\r",
      "Saving model...\n",
      "\r",
      "\r",
      "\r",
      "\r",
      "Saved successfully\n",
      "\r",
      "\r",
      "\r",
      "\r",
      "------------ Epoch 4 ------------\n"
     ]
    },
    {
     "data": {
      "application/vnd.jupyter.widget-view+json": {
       "model_id": "a781ede03daa496fa637192df3bb13f7",
       "version_major": 2,
       "version_minor": 0
      },
      "text/plain": [
       "HBox(children=(FloatProgress(value=0.0, description='Train: Epoch #4', max=9155.0, style=ProgressStyle(descrip…"
      ]
     },
     "metadata": {},
     "output_type": "display_data"
    },
    {
     "name": "stdout",
     "output_type": "stream",
     "text": [
      "\n"
     ]
    },
    {
     "data": {
      "application/vnd.jupyter.widget-view+json": {
       "model_id": "c5018cbbf86746e58e9f4ea5c96c1e5e",
       "version_major": 2,
       "version_minor": 0
      },
      "text/plain": [
       "HBox(children=(FloatProgress(value=0.0, description='Val: Epoch #4', max=2276.0, style=ProgressStyle(descripti…"
      ]
     },
     "metadata": {},
     "output_type": "display_data"
    },
    {
     "name": "stdout",
     "output_type": "stream",
     "text": [
      "\n",
      "Epoch     4: reducing learning rate of group 0 to 2.5000e-04.\n",
      "\r",
      "\r",
      "\r",
      "\r",
      "Biggest val accuracy\n",
      "\r",
      "\r",
      "\r",
      "\r",
      "Saving model...\n",
      "\r",
      "\r",
      "\r",
      "\r",
      "Saved successfully\n",
      "\r",
      "\r",
      "\r",
      "\r",
      "------------ Epoch 5 ------------\n"
     ]
    },
    {
     "data": {
      "application/vnd.jupyter.widget-view+json": {
       "model_id": "22bcefb0a8784c3ea005fd76087eb5d1",
       "version_major": 2,
       "version_minor": 0
      },
      "text/plain": [
       "HBox(children=(FloatProgress(value=0.0, description='Train: Epoch #5', max=9155.0, style=ProgressStyle(descrip…"
      ]
     },
     "metadata": {},
     "output_type": "display_data"
    },
    {
     "name": "stdout",
     "output_type": "stream",
     "text": [
      "\n"
     ]
    },
    {
     "data": {
      "application/vnd.jupyter.widget-view+json": {
       "model_id": "0c3feadfae6b445b8262ac42feea64c1",
       "version_major": 2,
       "version_minor": 0
      },
      "text/plain": [
       "HBox(children=(FloatProgress(value=0.0, description='Val: Epoch #5', max=2276.0, style=ProgressStyle(descripti…"
      ]
     },
     "metadata": {},
     "output_type": "display_data"
    },
    {
     "name": "stdout",
     "output_type": "stream",
     "text": [
      "\n",
      "Epoch     5: reducing learning rate of group 0 to 1.2500e-04.\n",
      "\r",
      "\r",
      "\r",
      "\r",
      "Biggest val accuracy\n",
      "\r",
      "\r",
      "\r",
      "\r",
      "Saving model...\n",
      "\r",
      "\r",
      "\r",
      "\r",
      "Saved successfully\n",
      "\r",
      "\r",
      "\r",
      "\r",
      "------------ Epoch 6 ------------\n"
     ]
    },
    {
     "data": {
      "application/vnd.jupyter.widget-view+json": {
       "model_id": "abc2f941df154b70ab291e781d6759d6",
       "version_major": 2,
       "version_minor": 0
      },
      "text/plain": [
       "HBox(children=(FloatProgress(value=0.0, description='Train: Epoch #6', max=9155.0, style=ProgressStyle(descrip…"
      ]
     },
     "metadata": {},
     "output_type": "display_data"
    },
    {
     "name": "stdout",
     "output_type": "stream",
     "text": [
      "\n"
     ]
    },
    {
     "data": {
      "application/vnd.jupyter.widget-view+json": {
       "model_id": "6d53585b21864365af7b725218208953",
       "version_major": 2,
       "version_minor": 0
      },
      "text/plain": [
       "HBox(children=(FloatProgress(value=0.0, description='Val: Epoch #6', max=2276.0, style=ProgressStyle(descripti…"
      ]
     },
     "metadata": {},
     "output_type": "display_data"
    },
    {
     "name": "stdout",
     "output_type": "stream",
     "text": [
      "\n",
      "Epoch     6: reducing learning rate of group 0 to 6.2500e-05.\n",
      "\r",
      "\r",
      "\r",
      "\r",
      "Biggest val accuracy\n",
      "\r",
      "\r",
      "\r",
      "\r",
      "Saving model...\n",
      "\r",
      "\r",
      "\r",
      "\r",
      "Saved successfully\n",
      "\r",
      "\r",
      "\r",
      "\r",
      "------------ Epoch 7 ------------\n"
     ]
    },
    {
     "data": {
      "application/vnd.jupyter.widget-view+json": {
       "model_id": "a68e72b8b10c4f95a622d0cf056380ba",
       "version_major": 2,
       "version_minor": 0
      },
      "text/plain": [
       "HBox(children=(FloatProgress(value=0.0, description='Train: Epoch #7', max=9155.0, style=ProgressStyle(descrip…"
      ]
     },
     "metadata": {},
     "output_type": "display_data"
    },
    {
     "name": "stdout",
     "output_type": "stream",
     "text": [
      "\n"
     ]
    },
    {
     "data": {
      "application/vnd.jupyter.widget-view+json": {
       "model_id": "727dc8e4959745698376a9366ac94828",
       "version_major": 2,
       "version_minor": 0
      },
      "text/plain": [
       "HBox(children=(FloatProgress(value=0.0, description='Val: Epoch #7', max=2276.0, style=ProgressStyle(descripti…"
      ]
     },
     "metadata": {},
     "output_type": "display_data"
    },
    {
     "name": "stdout",
     "output_type": "stream",
     "text": [
      "\n",
      "Epoch     7: reducing learning rate of group 0 to 3.1250e-05.\n",
      "\r",
      "\r",
      "\r",
      "\r",
      "------------ Epoch 8 ------------\n"
     ]
    },
    {
     "data": {
      "application/vnd.jupyter.widget-view+json": {
       "model_id": "c5728a8d0fe04b45aa11e46d2ca763a4",
       "version_major": 2,
       "version_minor": 0
      },
      "text/plain": [
       "HBox(children=(FloatProgress(value=0.0, description='Train: Epoch #8', max=9155.0, style=ProgressStyle(descrip…"
      ]
     },
     "metadata": {},
     "output_type": "display_data"
    },
    {
     "name": "stdout",
     "output_type": "stream",
     "text": [
      "\n"
     ]
    },
    {
     "data": {
      "application/vnd.jupyter.widget-view+json": {
       "model_id": "2e4bc3898a424f1c8ca87d463249112c",
       "version_major": 2,
       "version_minor": 0
      },
      "text/plain": [
       "HBox(children=(FloatProgress(value=0.0, description='Val: Epoch #8', max=2276.0, style=ProgressStyle(descripti…"
      ]
     },
     "metadata": {},
     "output_type": "display_data"
    },
    {
     "name": "stdout",
     "output_type": "stream",
     "text": [
      "\n",
      "Epoch     8: reducing learning rate of group 0 to 1.5625e-05.\n",
      "\r",
      "\r",
      "\r",
      "\r",
      "Biggest val accuracy\n",
      "\r",
      "\r",
      "\r",
      "\r",
      "Saving model...\n",
      "\r",
      "\r",
      "\r",
      "\r",
      "Saved successfully\n",
      "\r",
      "\r",
      "\r",
      "\r",
      "------------ Epoch 9 ------------\n"
     ]
    },
    {
     "data": {
      "application/vnd.jupyter.widget-view+json": {
       "model_id": "6e48711fd6214113bc8da43d3e1c4a09",
       "version_major": 2,
       "version_minor": 0
      },
      "text/plain": [
       "HBox(children=(FloatProgress(value=0.0, description='Train: Epoch #9', max=9155.0, style=ProgressStyle(descrip…"
      ]
     },
     "metadata": {},
     "output_type": "display_data"
    },
    {
     "name": "stdout",
     "output_type": "stream",
     "text": [
      "\n"
     ]
    },
    {
     "data": {
      "application/vnd.jupyter.widget-view+json": {
       "model_id": "bb9f654afa0947e880c8a414624ff711",
       "version_major": 2,
       "version_minor": 0
      },
      "text/plain": [
       "HBox(children=(FloatProgress(value=0.0, description='Val: Epoch #9', max=2276.0, style=ProgressStyle(descripti…"
      ]
     },
     "metadata": {},
     "output_type": "display_data"
    },
    {
     "name": "stdout",
     "output_type": "stream",
     "text": [
      "\n",
      "Epoch     9: reducing learning rate of group 0 to 7.8125e-06.\n",
      "\r",
      "\r",
      "\r",
      "\r",
      "Biggest val accuracy\n",
      "\r",
      "\r",
      "\r",
      "\r",
      "Saving model...\n",
      "\r",
      "\r",
      "\r",
      "\r",
      "Saved successfully\n",
      "Finished...\n"
     ]
    }
   ],
   "source": [
    "# Train model\n",
    "for epoch in range(num_of_epochs):\n",
    "    tqdm.write(f'------------ Epoch {epoch} ------------')\n",
    "    for phase in ['train', 'val']:\n",
    "        desc = f\"{phase.title()}: Epoch #{epoch}\"\n",
    "        epoch_accs, epoch_losses = run_model(model, device, optimizer,\n",
    "                                             loss_function, data_loader[phase],\n",
    "                                             phase == 'train', desc)\n",
    "\n",
    "        acc, loss = np.mean(epoch_accs), np.mean(epoch_losses)\n",
    "        stats[phase]['acc'].append(acc)\n",
    "        stats[phase]['loss'].append(loss)\n",
    "    # Update learning rate.\n",
    "    lr_scheduler.step(stats['val']['acc'][-1])\n",
    "    # Check best model\n",
    "    if stats['val']['acc'][-1] > best_acc:\n",
    "        best_acc = stats['val']['acc'][-1]\n",
    "        tqdm.write('Biggest val accuracy')\n",
    "        tqdm.write('Saving model...')\n",
    "        try:\n",
    "            torch.save(model, model_file)\n",
    "            tqdm.write('Saved successfully')\n",
    "        except FileNotFoundError:\n",
    "            tqdm.write('Error during saving!')\n",
    "    # Check loss change for early stopping\n",
    "    loss_change = abs(reduce(operator.sub, stats['train']['loss'][-2:]))\n",
    "    if epsilon and loss_change < epsilon:\n",
    "        print(f'Early stopping: loss change ({loss_change}) is less than {epsilon}')\n",
    "\n",
    "print('Finished...')"
   ]
  },
  {
   "cell_type": "markdown",
   "metadata": {},
   "source": [
    "** topk = 2 **\n",
    "\n",
    "1 слой LSTM: (val) 87,99 - 89,37 - 90,57\n",
    "\n",
    "2 слоя LSTM: (val) 84,02 - 85,32\n",
    "\n",
    "\n",
    "\n",
    "** 1 слой LSTM ** \n",
    "\n",
    "topk = 1: (val) 84,01 \n",
    "\n",
    "topk = 3: (val) 87,94 - 89,75 - ..."
   ]
  }
 ],
 "metadata": {
  "kernelspec": {
   "display_name": "ML",
   "language": "python",
   "name": "ml"
  },
  "language_info": {
   "codemirror_mode": {
    "name": "ipython",
    "version": 3
   },
   "file_extension": ".py",
   "mimetype": "text/x-python",
   "name": "python",
   "nbconvert_exporter": "python",
   "pygments_lexer": "ipython3",
   "version": "3.7.4"
  }
 },
 "nbformat": 4,
 "nbformat_minor": 2
}
