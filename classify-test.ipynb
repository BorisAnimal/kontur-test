{
 "cells": [
  {
   "cell_type": "code",
   "execution_count": 1,
   "metadata": {},
   "outputs": [],
   "source": [
    "import youtokentome as yttm\n",
    "\n",
    "import pandas as pd\n",
    "import numpy as np\n",
    "\n",
    "from src.utils import *\n",
    "from src.vars import *\n",
    "from src.model import Classifier\n",
    "\n",
    "from tqdm.notebook import tqdm\n",
    "\n",
    "import torch"
   ]
  },
  {
   "cell_type": "code",
   "execution_count": 2,
   "metadata": {},
   "outputs": [],
   "source": [
    "data = pd.read_csv(test_file, sep='\\t')"
   ]
  },
  {
   "cell_type": "code",
   "execution_count": 3,
   "metadata": {},
   "outputs": [],
   "source": [
    "tokenizer = yttm.BPE(model=tokenizer_path)\n",
    "sep_token = tokenizer.id_to_subword(sep_token_id)\n",
    "\n",
    "device = torch.device('cuda' if torch.cuda.is_available() else 'cpu')"
   ]
  },
  {
   "cell_type": "code",
   "execution_count": 4,
   "metadata": {},
   "outputs": [],
   "source": [
    "clued = clue(data, sep_token=sep_token, to_lower=True)"
   ]
  },
  {
   "cell_type": "code",
   "execution_count": 5,
   "metadata": {},
   "outputs": [],
   "source": [
    "model = torch.load(model_file).to(device)"
   ]
  },
  {
   "cell_type": "code",
   "execution_count": 6,
   "metadata": {},
   "outputs": [],
   "source": [
    "rows = clued.values\n",
    "rows = [torch.LongTensor(tokenizer.encode(r)) for r in rows]"
   ]
  },
  {
   "cell_type": "code",
   "execution_count": 7,
   "metadata": {},
   "outputs": [],
   "source": [
    "def create_dataloader(data, batch_size, pad_id,\n",
    "                      pin_memory=True, shuffle=True, num_of_workers=0):\n",
    "    \"\"\"Create DataLoader object for given data.\n",
    "    \"\"\"\n",
    "    partial_collate = partial(my_collate, pad_id=pad_id)\n",
    "    return DataLoader(data,\n",
    "                      batch_size=batch_size,\n",
    "                      collate_fn=partial_collate,\n",
    "                      pin_memory=pin_memory,\n",
    "                      drop_last=False,\n",
    "                      shuffle=shuffle,\n",
    "                      num_workers=num_of_workers)\n",
    "\n",
    "dl = create_dataloader(list(zip(rows, range(len(rows)))), 128, pad_token_id, shuffle=False)"
   ]
  },
  {
   "cell_type": "code",
   "execution_count": 8,
   "metadata": {},
   "outputs": [
    {
     "data": {
      "application/vnd.jupyter.widget-view+json": {
       "model_id": "125748f31af0473d9e533247e5785abd",
       "version_major": 2,
       "version_minor": 0
      },
      "text/plain": [
       "HBox(children=(FloatProgress(value=0.0, max=7782.0), HTML(value='')))"
      ]
     },
     "metadata": {},
     "output_type": "display_data"
    },
    {
     "name": "stdout",
     "output_type": "stream",
     "text": [
      "\n"
     ]
    }
   ],
   "source": [
    "res = []\n",
    "for v, _ in tqdm(dl):\n",
    "    v = v.to(device)\n",
    "    y_hat = model(v)\n",
    "    res.append(torch.max(y_hat, 1)[1].cpu().detach().numpy())"
   ]
  },
  {
   "cell_type": "code",
   "execution_count": 10,
   "metadata": {},
   "outputs": [],
   "source": [
    "united = np.concatenate(res)\n",
    "assert len(united) == len(data)"
   ]
  },
  {
   "cell_type": "code",
   "execution_count": 11,
   "metadata": {},
   "outputs": [],
   "source": [
    "pd.DataFrame(united, columns=[label_column], dtype=bool).to_csv('result.tsv', index=False, sep='\\t')"
   ]
  },
  {
   "cell_type": "code",
   "execution_count": null,
   "metadata": {},
   "outputs": [],
   "source": []
  }
 ],
 "metadata": {
  "kernelspec": {
   "display_name": "ML",
   "language": "python",
   "name": "ml"
  },
  "language_info": {
   "codemirror_mode": {
    "name": "ipython",
    "version": 3
   },
   "file_extension": ".py",
   "mimetype": "text/x-python",
   "name": "python",
   "nbconvert_exporter": "python",
   "pygments_lexer": "ipython3",
   "version": "3.7.4"
  }
 },
 "nbformat": 4,
 "nbformat_minor": 2
}
